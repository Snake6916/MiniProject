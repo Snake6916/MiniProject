{
  "nbformat": 4,
  "nbformat_minor": 0,
  "metadata": {
    "colab": {
      "name": "MiniProject_Handwritten_digit.ipynb",
      "provenance": [],
      "collapsed_sections": [],
      "authorship_tag": "ABX9TyP1B6IS9broJ282XqqvVA9l",
      "include_colab_link": true
    },
    "kernelspec": {
      "name": "python3",
      "display_name": "Python 3"
    },
    "language_info": {
      "name": "python"
    }
  },
  "cells": [
    {
      "cell_type": "markdown",
      "metadata": {
        "id": "view-in-github",
        "colab_type": "text"
      },
      "source": [
        "<a href=\"https://colab.research.google.com/github/Snake6916/MiniProject/blob/main/MiniProject_Handwritten_digit_detection.ipynb\" target=\"_parent\"><img src=\"https://colab.research.google.com/assets/colab-badge.svg\" alt=\"Open In Colab\"/></a>"
      ]
    },
    {
      "cell_type": "code",
      "metadata": {
        "id": "frei6a89c-sk"
      },
      "source": [
        "import numpy as np\n",
        "import matplotlib.pyplot as plt\n",
        "from sklearn.datasets import fetch_openml\n",
        "\n",
        "from sklearn.model_selection import train_test_split\n",
        "from sklearn.neural_network import MLPClassifier\n",
        "\n",
        "from PIL import Image"
      ],
      "execution_count": null,
      "outputs": []
    },
    {
      "cell_type": "code",
      "metadata": {
        "id": "BuuRxU9Ub7T7"
      },
      "source": [
        "X, y = fetch_openml('mnist_784', version=1, return_X_y=True)"
      ],
      "execution_count": null,
      "outputs": []
    },
    {
      "cell_type": "code",
      "metadata": {
        "id": "AQSUXZDYJIWo"
      },
      "source": [
        "X_train, X_test, y_train, y_test = train_test_split(X,y, random_state=5)\n",
        "\n",
        "mlp=MLPClassifier(max_iter=500,hidden_layer_sizes=(16,16))\n",
        "mlp.fit(X_train,y_train)\n",
        "\n",
        "print(\"Done\")"
      ],
      "execution_count": null,
      "outputs": []
    },
    {
      "cell_type": "code",
      "metadata": {
        "id": "liPnbxRZClFB"
      },
      "source": [
        "for i in range(len(mlp.coefs_)) :\n",
        "  print(mlp.coefs_[i].shape)\n",
        "\n",
        "print(\"\\n\\n\",mlp.coefs_[0][:,0])"
      ],
      "execution_count": null,
      "outputs": []
    },
    {
      "cell_type": "code",
      "metadata": {
        "id": "K1abZ7X2K1cQ"
      },
      "source": [
        "y_pred = mlp.predict(X_test)\n",
        "print(y_pred)\n",
        "print(\"accuracy =\", round(mlp.score(X_test,y_test)*100,4), \"%\")"
      ],
      "execution_count": null,
      "outputs": []
    },
    {
      "cell_type": "code",
      "metadata": {
        "id": "B6lhYumZMu2T"
      },
      "source": [
        "incorrect = X_test[y_pred != y_test]\n",
        "incorrect_true = y_test[y_pred != y_test]\n",
        "incorrect_pred = y_pred[y_pred != y_test] \n",
        "\n",
        "for j in range(5):\n",
        "  plt.matshow(incorrect[j].reshape(28, 28), cmap=plt.cm.gray)\n",
        "  plt.xticks(())\n",
        "  plt.yticks(())\n",
        "  plt.show()\n",
        "  print(\"true value:\", incorrect_true[j])\n",
        "  print(\"predicted value:\", incorrect_pred[j])\n",
        "\n",
        "print(\"\\nWe have\",len(incorrect_true),\"incorrect predictions of\",len(y_test))"
      ],
      "execution_count": null,
      "outputs": []
    },
    {
      "cell_type": "code",
      "metadata": {
        "id": "T36UPghDY3lV"
      },
      "source": [
        "#this Part is just for testing some user inputs, the model might give\n",
        "#some wrong predictions and its normal since it does not have 100% accuracy\n",
        "name = input()\n",
        "\n",
        "img = Image.open('images/'+ name + '.png').convert('L')  # convert image to 8-bit grayscale\n",
        "\n",
        "img1 = img.resize((28, 28))\n",
        "digit = np.array(img1.getdata())\n",
        "\n",
        "plt.matshow(digit.reshape(28, 28), cmap=plt.cm.gray)\n",
        "plt.xticks(())\n",
        "plt.yticks(())\n",
        "plt.show()\n",
        "\n",
        "w = digit[digit > 120]\n",
        "b = digit[digit <= 120]\n",
        "#print(len(b),len(w))\n",
        "if (len(b)<len(w)):\n",
        "  for i in range(len(digit)):\n",
        "    if(digit[i] > 200):\n",
        "      digit[i] = 0\n",
        "    else:\n",
        "      digit[i] = 255-digit[i]\n",
        "\n",
        "#Prediction\n",
        "digit_pred = mlp.predict([digit])[0]\n",
        "print(\"Your digit image is predicted to be :\", digit_pred)\n",
        "#print(mlp.predict_proba([digit])[0])"
      ],
      "execution_count": null,
      "outputs": []
    }
  ]
}